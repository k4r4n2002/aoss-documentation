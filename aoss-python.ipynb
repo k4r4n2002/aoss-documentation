{
 "cells": [
  {
   "cell_type": "code",
   "execution_count": 1,
   "metadata": {},
   "outputs": [
    {
     "name": "stdout",
     "output_type": "stream",
     "text": [
      "Collecting boto3\n",
      "  Downloading boto3-1.35.54-py3-none-any.whl.metadata (6.7 kB)\n",
      "Collecting botocore<1.36.0,>=1.35.54 (from boto3)\n",
      "  Downloading botocore-1.35.54-py3-none-any.whl.metadata (5.7 kB)\n",
      "Collecting jmespath<2.0.0,>=0.7.1 (from boto3)\n",
      "  Downloading jmespath-1.0.1-py3-none-any.whl.metadata (7.6 kB)\n",
      "Collecting s3transfer<0.11.0,>=0.10.0 (from boto3)\n",
      "  Downloading s3transfer-0.10.3-py3-none-any.whl.metadata (1.7 kB)\n",
      "Requirement already satisfied: python-dateutil<3.0.0,>=2.1 in /home/codespace/.local/lib/python3.12/site-packages (from botocore<1.36.0,>=1.35.54->boto3) (2.9.0.post0)\n",
      "Requirement already satisfied: urllib3!=2.2.0,<3,>=1.25.4 in /home/codespace/.local/lib/python3.12/site-packages (from botocore<1.36.0,>=1.35.54->boto3) (2.2.3)\n",
      "Requirement already satisfied: six>=1.5 in /home/codespace/.local/lib/python3.12/site-packages (from python-dateutil<3.0.0,>=2.1->botocore<1.36.0,>=1.35.54->boto3) (1.16.0)\n",
      "Downloading boto3-1.35.54-py3-none-any.whl (139 kB)\n",
      "Downloading botocore-1.35.54-py3-none-any.whl (12.7 MB)\n",
      "\u001b[2K   \u001b[90m━━━━━━━━━━━━━━━━━━━━━━━━━━━━━━━━━━━━━━━━\u001b[0m \u001b[32m12.7/12.7 MB\u001b[0m \u001b[31m24.9 MB/s\u001b[0m eta \u001b[36m0:00:00\u001b[0m00:01\u001b[0m0:01\u001b[0m\n",
      "\u001b[?25hDownloading jmespath-1.0.1-py3-none-any.whl (20 kB)\n",
      "Downloading s3transfer-0.10.3-py3-none-any.whl (82 kB)\n",
      "Installing collected packages: jmespath, botocore, s3transfer, boto3\n",
      "Successfully installed boto3-1.35.54 botocore-1.35.54 jmespath-1.0.1 s3transfer-0.10.3\n",
      "\n",
      "\u001b[1m[\u001b[0m\u001b[34;49mnotice\u001b[0m\u001b[1;39;49m]\u001b[0m\u001b[39;49m A new release of pip is available: \u001b[0m\u001b[31;49m24.2\u001b[0m\u001b[39;49m -> \u001b[0m\u001b[32;49m24.3.1\u001b[0m\n",
      "\u001b[1m[\u001b[0m\u001b[34;49mnotice\u001b[0m\u001b[1;39;49m]\u001b[0m\u001b[39;49m To update, run: \u001b[0m\u001b[32;49mpython -m pip install --upgrade pip\u001b[0m\n",
      "Note: you may need to restart the kernel to use updated packages.\n"
     ]
    }
   ],
   "source": [
    "pip install boto3"
   ]
  },
  {
   "cell_type": "code",
   "execution_count": 3,
   "metadata": {},
   "outputs": [
    {
     "name": "stdout",
     "output_type": "stream",
     "text": [
      "Collecting opensearch-py\n",
      "  Downloading opensearch_py-2.7.1-py3-none-any.whl.metadata (6.9 kB)\n",
      "Requirement already satisfied: requests<3.0.0,>=2.32.0 in /home/codespace/.local/lib/python3.12/site-packages (from opensearch-py) (2.32.3)\n",
      "Requirement already satisfied: python-dateutil in /home/codespace/.local/lib/python3.12/site-packages (from opensearch-py) (2.9.0.post0)\n",
      "Requirement already satisfied: certifi>=2024.07.04 in /home/codespace/.local/lib/python3.12/site-packages (from opensearch-py) (2024.8.30)\n",
      "Collecting Events (from opensearch-py)\n",
      "  Downloading Events-0.5-py3-none-any.whl.metadata (3.9 kB)\n",
      "Requirement already satisfied: urllib3!=2.2.0,!=2.2.1,<3,>=1.26.19 in /home/codespace/.local/lib/python3.12/site-packages (from opensearch-py) (2.2.3)\n",
      "Requirement already satisfied: charset-normalizer<4,>=2 in /home/codespace/.local/lib/python3.12/site-packages (from requests<3.0.0,>=2.32.0->opensearch-py) (3.3.2)\n",
      "Requirement already satisfied: idna<4,>=2.5 in /home/codespace/.local/lib/python3.12/site-packages (from requests<3.0.0,>=2.32.0->opensearch-py) (3.10)\n",
      "Requirement already satisfied: six>=1.5 in /home/codespace/.local/lib/python3.12/site-packages (from python-dateutil->opensearch-py) (1.16.0)\n",
      "Downloading opensearch_py-2.7.1-py3-none-any.whl (325 kB)\n",
      "Downloading Events-0.5-py3-none-any.whl (6.8 kB)\n",
      "Installing collected packages: Events, opensearch-py\n",
      "Successfully installed Events-0.5 opensearch-py-2.7.1\n",
      "\n",
      "\u001b[1m[\u001b[0m\u001b[34;49mnotice\u001b[0m\u001b[1;39;49m]\u001b[0m\u001b[39;49m A new release of pip is available: \u001b[0m\u001b[31;49m24.2\u001b[0m\u001b[39;49m -> \u001b[0m\u001b[32;49m24.3.1\u001b[0m\n",
      "\u001b[1m[\u001b[0m\u001b[34;49mnotice\u001b[0m\u001b[1;39;49m]\u001b[0m\u001b[39;49m To update, run: \u001b[0m\u001b[32;49mpython -m pip install --upgrade pip\u001b[0m\n",
      "Note: you may need to restart the kernel to use updated packages.\n"
     ]
    }
   ],
   "source": [
    "pip install opensearch-py"
   ]
  },
  {
   "cell_type": "code",
   "execution_count": 4,
   "metadata": {},
   "outputs": [
    {
     "name": "stdout",
     "output_type": "stream",
     "text": [
      "Collecting requests-aws4auth\n",
      "  Downloading requests_aws4auth-1.3.1-py3-none-any.whl.metadata (18 kB)\n",
      "Requirement already satisfied: requests in /home/codespace/.local/lib/python3.12/site-packages (from requests-aws4auth) (2.32.3)\n",
      "Requirement already satisfied: charset-normalizer<4,>=2 in /home/codespace/.local/lib/python3.12/site-packages (from requests->requests-aws4auth) (3.3.2)\n",
      "Requirement already satisfied: idna<4,>=2.5 in /home/codespace/.local/lib/python3.12/site-packages (from requests->requests-aws4auth) (3.10)\n",
      "Requirement already satisfied: urllib3<3,>=1.21.1 in /home/codespace/.local/lib/python3.12/site-packages (from requests->requests-aws4auth) (2.2.3)\n",
      "Requirement already satisfied: certifi>=2017.4.17 in /home/codespace/.local/lib/python3.12/site-packages (from requests->requests-aws4auth) (2024.8.30)\n",
      "Downloading requests_aws4auth-1.3.1-py3-none-any.whl (24 kB)\n",
      "Installing collected packages: requests-aws4auth\n",
      "Successfully installed requests-aws4auth-1.3.1\n",
      "\n",
      "\u001b[1m[\u001b[0m\u001b[34;49mnotice\u001b[0m\u001b[1;39;49m]\u001b[0m\u001b[39;49m A new release of pip is available: \u001b[0m\u001b[31;49m24.2\u001b[0m\u001b[39;49m -> \u001b[0m\u001b[32;49m24.3.1\u001b[0m\n",
      "\u001b[1m[\u001b[0m\u001b[34;49mnotice\u001b[0m\u001b[1;39;49m]\u001b[0m\u001b[39;49m To update, run: \u001b[0m\u001b[32;49mpython -m pip install --upgrade pip\u001b[0m\n",
      "Note: you may need to restart the kernel to use updated packages.\n"
     ]
    }
   ],
   "source": [
    "pip install requests-aws4auth"
   ]
  },
  {
   "cell_type": "code",
   "execution_count": 5,
   "metadata": {},
   "outputs": [],
   "source": [
    "from opensearchpy import OpenSearch, RequestsHttpConnection\n",
    "from requests_aws4auth import AWS4Auth\n",
    "import boto3"
   ]
  },
  {
   "cell_type": "code",
   "execution_count": null,
   "metadata": {},
   "outputs": [],
   "source": [
    "# Retrieve AWS credentials\n",
    "credentials = boto3.Session().get_credentials()\n",
    "#make sure you have set-up AWS cli in the environment you are executing this\n",
    "# AWS authentication\n",
    "region = \"us-west-2\"\n",
    "service = \"aoss\"\n",
    "awsauth = AWS4Auth(credentials.access_key, credentials.secret_key, region, service, session_token=credentials.token)\n"
   ]
  },
  {
   "cell_type": "code",
   "execution_count": null,
   "metadata": {},
   "outputs": [],
   "source": [
    "# Initialize OpenSearch client\n",
    "client = OpenSearch(\n",
    "    hosts=[{\n",
    "        'host': 'your_opensearch_endpoint_url_from_aws_console',\n",
    "        #remove the https from the prefix of url for the host\n",
    "        'port': 443\n",
    "    }],\n",
    "    http_auth=awsauth,\n",
    "    use_ssl=True,\n",
    "    verify_certs=True,\n",
    "    connection_class=RequestsHttpConnection\n",
    ")"
   ]
  },
  {
   "cell_type": "markdown",
   "metadata": {},
   "source": [
    "Deleting an index from a collection"
   ]
  },
  {
   "cell_type": "code",
   "execution_count": null,
   "metadata": {},
   "outputs": [],
   "source": [
    "response = client.indices.delete(index=\"test\", ignore=[400, 404]) \n",
    "#specify the index name or the list of index names to delete\n",
    "response"
   ]
  },
  {
   "cell_type": "markdown",
   "metadata": {},
   "source": [
    "Creating an index"
   ]
  },
  {
   "cell_type": "code",
   "execution_count": 1,
   "metadata": {},
   "outputs": [],
   "source": [
    "# we need to create a schema for our index and follow the same layout while ingesting the documents\n",
    "index_body={\n",
    "  \"settings\": {\n",
    "    \"index\": {\n",
    "      \"knn\": True\n",
    "    }\n",
    "  },\n",
    "  \"mappings\": {\n",
    "    \"properties\": {\n",
    "      \"embedding\": {\n",
    "        \"type\": \"knn_vector\",\n",
    "        \"dimension\": 1536  # This should match the dimension of your embeddings\n",
    "      },\n",
    "      \"text\": {\n",
    "        \"type\": \"text\",\n",
    "        \"fields\": {\n",
    "          \"keyword\": {\n",
    "            \"type\": \"keyword\",\n",
    "            \"ignore_above\": 10000  # Set the maximum length for the keyword field\n",
    "          }\n",
    "        }\n",
    "      },\n",
    "      \"metadata\": {\n",
    "        \"properties\": {\n",
    "          \"doc_name\": {\n",
    "            \"type\": \"keyword\",  # Use keyword type for exact matches\n",
    "            \"ignore_above\": 1000  # Optional: Set a limit on the length of doc_name\n",
    "          }\n",
    "        }\n",
    "      }\n",
    "    }\n",
    "  }\n",
    "}\n"
   ]
  },
  {
   "cell_type": "code",
   "execution_count": null,
   "metadata": {},
   "outputs": [],
   "source": [
    "index_name= \"test\"\n",
    "client.indices.create(index=index_name, body=index_body)"
   ]
  },
  {
   "cell_type": "markdown",
   "metadata": {},
   "source": [
    "Ingesting documents"
   ]
  },
  {
   "cell_type": "code",
   "execution_count": null,
   "metadata": {},
   "outputs": [],
   "source": [
    "'''\n",
    "    this cell uses some open source libraries that help us read and chunkify our text content.\n",
    "    refer to the langchain documentation for more\n",
    "'''\n",
    "import os\n",
    "from langchain.text_splitter import RecursiveCharacterTextSplitter\n",
    "from langchain.document_loaders import PyPDFLoader\n",
    "from opensearchpy.helpers import bulk\n",
    "\n",
    "types = [\"type1\", \"type2\", \"type3\"]\n",
    "embeddings= your_embedding_model_class(config)\n",
    "text_splitter = RecursiveCharacterTextSplitter(\n",
    "    chunk_size=1600,\n",
    "    separators=[\"\\n\\n\", \".\"],\n",
    "    chunk_overlap=400\n",
    ")\n",
    "\n",
    "for type in types:\n",
    "    folder = f\"C:/Users/karan_dhingra/Desktop/DirecTV/docs/{type}\"\n",
    "    files = [f for f in os.listdir(folder) if os.path.isfile(os.path.join(folder, f))]\n",
    "\n",
    "    for file in files:\n",
    "        loader = PyPDFLoader(f\"{folder}/{file}\")\n",
    "        documents = loader.load()\n",
    "        docs = text_splitter.split_documents(documents)\n",
    "        file_chunks = []\n",
    "        \n",
    "        # Assign metadata to each document\n",
    "        for doc in docs:\n",
    "            # Extract page_content and compute embedding\n",
    "            page_content = doc.page_content\n",
    "            embedding = embeddings.embed_query(page_content)\n",
    "            index_document = {\n",
    "                \"_index\": type,\n",
    "                \"_source\": {\n",
    "                    \"text\": page_content,\n",
    "                    \"embedding\": embedding,\n",
    "                    \"metadata\": {\n",
    "                        \"doc_name\": file  # Add the file name as doc_name in metadata\n",
    "                    }\n",
    "                }\n",
    "            }\n",
    "            file_chunks.append(index_document)\n",
    "        \n",
    "        print(len(file_chunks))\n",
    "        try:\n",
    "            response = bulk(client, file_chunks)\n",
    "        except Exception as e:\n",
    "            print(f\"Error occurred during bulk indexing: {e}\")\n",
    "\n",
    "# Check for any errors in the response and print them out.\n"
   ]
  },
  {
   "cell_type": "markdown",
   "metadata": {},
   "source": [
    "Deleting a document"
   ]
  },
  {
   "cell_type": "code",
   "execution_count": null,
   "metadata": {},
   "outputs": [],
   "source": [
    "''' \n",
    "    this function uses a term search query to get all the document ids matching a \n",
    "    criteria(doc_name being a certain value in this case) and use that list of ids to delete them\n",
    "    from a certain index\n",
    "'''\n",
    "def delete_doc(doc_name):\n",
    "    search_query = {\n",
    "        \"size\": 100,  # Adjust the number of results as needed\n",
    "        \"query\": {\n",
    "            \"term\": {\n",
    "                \"metadata.doc_name\": {\n",
    "                    \"value\": doc_name\n",
    "                }\n",
    "            }\n",
    "        }\n",
    "    }\n",
    "    # Perform the search\n",
    "    response = client.search(\n",
    "        index=types,  # Replace with the name of your index\n",
    "        body=search_query\n",
    "    )\n",
    "    ids_to_del=[]\n",
    "    for hit in response['hits']['hits']:\n",
    "        ids_to_del.append(hit['_id'])\n",
    "\n",
    "    if(len(response['hits']['hits'])):\n",
    "         idx= response['hits']['hits'][0]['_index']\n",
    "    for ids in ids_to_del:\n",
    "        response = client.delete(index=idx, id=ids)\n",
    "    return ids_to_del\n",
    "\n",
    "res=delete_doc(\"test_doc.pdf\")\n",
    "res"
   ]
  },
  {
   "cell_type": "markdown",
   "metadata": {},
   "source": [
    "Check whether an index exists"
   ]
  },
  {
   "cell_type": "code",
   "execution_count": null,
   "metadata": {},
   "outputs": [],
   "source": [
    "client.indices.exists(index=index_name)"
   ]
  }
 ],
 "metadata": {
  "kernelspec": {
   "display_name": "Python 3",
   "language": "python",
   "name": "python3"
  },
  "language_info": {
   "codemirror_mode": {
    "name": "ipython",
    "version": 3
   },
   "file_extension": ".py",
   "mimetype": "text/x-python",
   "name": "python",
   "nbconvert_exporter": "python",
   "pygments_lexer": "ipython3",
   "version": "3.12.1"
  }
 },
 "nbformat": 4,
 "nbformat_minor": 2
}
